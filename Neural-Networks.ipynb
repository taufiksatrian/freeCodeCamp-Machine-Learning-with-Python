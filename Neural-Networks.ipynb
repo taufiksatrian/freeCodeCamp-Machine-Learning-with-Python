{
  "nbformat": 4,
  "nbformat_minor": 0,
  "metadata": {
    "colab": {
      "provenance": [],
      "authorship_tag": "ABX9TyOdGhlUiiVAA/lVy1M8r3Oh",
      "include_colab_link": true
    },
    "kernelspec": {
      "name": "python3",
      "display_name": "Python 3"
    },
    "language_info": {
      "name": "python"
    }
  },
  "cells": [
    {
      "cell_type": "markdown",
      "metadata": {
        "id": "view-in-github",
        "colab_type": "text"
      },
      "source": [
        "<a href=\"https://colab.research.google.com/github/taufiksatrian/freeCodeCamp-Machine-Learning-with-Python/blob/main/Neural-Networks.ipynb\" target=\"_parent\"><img src=\"https://colab.research.google.com/assets/colab-badge.svg\" alt=\"Open In Colab\"/></a>"
      ]
    },
    {
      "cell_type": "markdown",
      "source": [
        "## **Neural Networks**"
      ],
      "metadata": {
        "id": "e25ZnC1JyQ6z"
      }
    },
    {
      "cell_type": "markdown",
      "source": [
        "### **Neural Networks with TensorFlow**"
      ],
      "metadata": {
        "id": "l0IurPaoyQjB"
      }
    },
    {
      "cell_type": "markdown",
      "source": [],
      "metadata": {
        "id": "2UCHYBB6y7A4"
      }
    },
    {
      "cell_type": "markdown",
      "source": [
        "### **Activation Functions**"
      ],
      "metadata": {
        "id": "JEdZwixYyebK"
      }
    },
    {
      "cell_type": "markdown",
      "source": [
        "Activation Funtions\n",
        "- Relu (rectified Linear Unit)\n",
        "- Sigmoid = values 0 and 1\n",
        "- Tanh (Hyperbolic Tangent) = values between -1 and 1"
      ],
      "metadata": {
        "id": "HDfo6Ix52l8O"
      }
    },
    {
      "cell_type": "markdown",
      "source": [
        "Some common loss/cost functions include\n",
        "- Mean Squared Error\n",
        "- Mean Absolute Error\n",
        "- Hinge Loss"
      ],
      "metadata": {
        "id": "fSU8tSnz4y15"
      }
    },
    {
      "cell_type": "markdown",
      "source": [
        "Gradient Descent"
      ],
      "metadata": {
        "id": "uxn-8_8R5UcZ"
      }
    },
    {
      "cell_type": "markdown",
      "source": [
        "### **Optimizers**"
      ],
      "metadata": {
        "id": "m3ax9mINyh7p"
      }
    },
    {
      "cell_type": "markdown",
      "source": [
        "### **Creating a Model**"
      ],
      "metadata": {
        "id": "tKSDKF9HymJ5"
      }
    }
  ]
}